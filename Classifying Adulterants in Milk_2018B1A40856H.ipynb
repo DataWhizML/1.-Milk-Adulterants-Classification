{
 "cells": [
  {
   "cell_type": "markdown",
   "metadata": {},
   "source": [
    "# Milk Adulteration\n",
    "## 2018B1A40856H_Yadavalli V K Lakshmi Sravani"
   ]
  },
  {
   "cell_type": "code",
   "execution_count": 1,
   "metadata": {
    "id": "SjBumJBA_BNt"
   },
   "outputs": [],
   "source": [
    "## importing Libraries\n",
    "import pandas as pd\n",
    "import numpy as np\n",
    "import seaborn as sns\n",
    "import matplotlib.pyplot as plt\n",
    "\n",
    "%matplotlib inline"
   ]
  },
  {
   "cell_type": "code",
   "execution_count": 3,
   "metadata": {
    "colab": {
     "base_uri": "https://localhost:8080/"
    },
    "id": "EO4to4xN_NuT",
    "outputId": "756f9580-0f02-417d-a6f3-cca457fdf832"
   },
   "outputs": [],
   "source": [
    "#data set\n",
    "df=pd.read_csv(\"Milk Adulteration data.csv\")"
   ]
  },
  {
   "cell_type": "code",
   "execution_count": 4,
   "metadata": {
    "colab": {
     "base_uri": "https://localhost:8080/",
     "height": 206
    },
    "id": "ebgLhFWx_aDA",
    "outputId": "bf7b3134-885d-4a7a-8dc9-899d9759ed77"
   },
   "outputs": [
    {
     "data": {
      "text/html": [
       "<div>\n",
       "<style scoped>\n",
       "    .dataframe tbody tr th:only-of-type {\n",
       "        vertical-align: middle;\n",
       "    }\n",
       "\n",
       "    .dataframe tbody tr th {\n",
       "        vertical-align: top;\n",
       "    }\n",
       "\n",
       "    .dataframe thead th {\n",
       "        text-align: right;\n",
       "    }\n",
       "</style>\n",
       "<table border=\"1\" class=\"dataframe\">\n",
       "  <thead>\n",
       "    <tr style=\"text-align: right;\">\n",
       "      <th></th>\n",
       "      <th>Nr</th>\n",
       "      <th>Date</th>\n",
       "      <th>Time</th>\n",
       "      <th>Ingredient</th>\n",
       "      <th>IsRawMilk</th>\n",
       "      <th>Cells</th>\n",
       "      <th>QValue</th>\n",
       "      <th>Fat</th>\n",
       "      <th>Protein</th>\n",
       "      <th>Lactose</th>\n",
       "      <th>Solids</th>\n",
       "      <th>FFA</th>\n",
       "      <th>Citrate</th>\n",
       "      <th>FrzPoint</th>\n",
       "      <th>SNF</th>\n",
       "      <th>MUN</th>\n",
       "      <th>Casein</th>\n",
       "    </tr>\n",
       "  </thead>\n",
       "  <tbody>\n",
       "    <tr>\n",
       "      <th>0</th>\n",
       "      <td>13</td>\n",
       "      <td>3/10/2016</td>\n",
       "      <td>15:20:25</td>\n",
       "      <td>peroxide</td>\n",
       "      <td>no</td>\n",
       "      <td>82</td>\n",
       "      <td>92.89</td>\n",
       "      <td>3.58</td>\n",
       "      <td>3.37</td>\n",
       "      <td>4.57</td>\n",
       "      <td>12.51</td>\n",
       "      <td>11</td>\n",
       "      <td>1392</td>\n",
       "      <td>0.564</td>\n",
       "      <td>8.93</td>\n",
       "      <td>30.8</td>\n",
       "      <td>2.61</td>\n",
       "    </tr>\n",
       "    <tr>\n",
       "      <th>1</th>\n",
       "      <td>1</td>\n",
       "      <td>5/10/2016</td>\n",
       "      <td>14:20:14</td>\n",
       "      <td>raw</td>\n",
       "      <td>yes</td>\n",
       "      <td>66</td>\n",
       "      <td>91.26</td>\n",
       "      <td>3.47</td>\n",
       "      <td>3.38</td>\n",
       "      <td>4.59</td>\n",
       "      <td>12.41</td>\n",
       "      <td>39</td>\n",
       "      <td>1317</td>\n",
       "      <td>0.564</td>\n",
       "      <td>8.97</td>\n",
       "      <td>15.2</td>\n",
       "      <td>2.67</td>\n",
       "    </tr>\n",
       "    <tr>\n",
       "      <th>2</th>\n",
       "      <td>3</td>\n",
       "      <td>31/8/2018</td>\n",
       "      <td>11:08:17</td>\n",
       "      <td>bicarbonate</td>\n",
       "      <td>no</td>\n",
       "      <td>895</td>\n",
       "      <td>91.85</td>\n",
       "      <td>3.51</td>\n",
       "      <td>2.98</td>\n",
       "      <td>4.50</td>\n",
       "      <td>11.98</td>\n",
       "      <td>12</td>\n",
       "      <td>1120</td>\n",
       "      <td>0.522</td>\n",
       "      <td>8.63</td>\n",
       "      <td>1.6</td>\n",
       "      <td>2.27</td>\n",
       "    </tr>\n",
       "    <tr>\n",
       "      <th>3</th>\n",
       "      <td>4</td>\n",
       "      <td>22/9/2017</td>\n",
       "      <td>15:41:49</td>\n",
       "      <td>raw</td>\n",
       "      <td>yes</td>\n",
       "      <td>151</td>\n",
       "      <td>86.69</td>\n",
       "      <td>3.40</td>\n",
       "      <td>3.22</td>\n",
       "      <td>4.66</td>\n",
       "      <td>12.23</td>\n",
       "      <td>19</td>\n",
       "      <td>1260</td>\n",
       "      <td>0.541</td>\n",
       "      <td>9.21</td>\n",
       "      <td>10.7</td>\n",
       "      <td>2.49</td>\n",
       "    </tr>\n",
       "    <tr>\n",
       "      <th>4</th>\n",
       "      <td>1</td>\n",
       "      <td>11/10/2016</td>\n",
       "      <td>15:13:43</td>\n",
       "      <td>raw</td>\n",
       "      <td>yes</td>\n",
       "      <td>527</td>\n",
       "      <td>89.41</td>\n",
       "      <td>3.54</td>\n",
       "      <td>3.17</td>\n",
       "      <td>4.53</td>\n",
       "      <td>12.22</td>\n",
       "      <td>60</td>\n",
       "      <td>1442</td>\n",
       "      <td>0.556</td>\n",
       "      <td>8.66</td>\n",
       "      <td>13.5</td>\n",
       "      <td>2.46</td>\n",
       "    </tr>\n",
       "  </tbody>\n",
       "</table>\n",
       "</div>"
      ],
      "text/plain": [
       "   Nr        Date      Time   Ingredient IsRawMilk  Cells  QValue   Fat  \\\n",
       "0  13   3/10/2016  15:20:25     peroxide        no     82   92.89  3.58   \n",
       "1   1   5/10/2016  14:20:14          raw       yes     66   91.26  3.47   \n",
       "2   3   31/8/2018  11:08:17  bicarbonate        no    895   91.85  3.51   \n",
       "3   4   22/9/2017  15:41:49          raw       yes    151   86.69  3.40   \n",
       "4   1  11/10/2016  15:13:43          raw       yes    527   89.41  3.54   \n",
       "\n",
       "   Protein  Lactose  Solids  FFA  Citrate  FrzPoint   SNF   MUN  Casein  \n",
       "0     3.37     4.57   12.51   11     1392     0.564  8.93  30.8    2.61  \n",
       "1     3.38     4.59   12.41   39     1317     0.564  8.97  15.2    2.67  \n",
       "2     2.98     4.50   11.98   12     1120     0.522  8.63   1.6    2.27  \n",
       "3     3.22     4.66   12.23   19     1260     0.541  9.21  10.7    2.49  \n",
       "4     3.17     4.53   12.22   60     1442     0.556  8.66  13.5    2.46  "
      ]
     },
     "execution_count": 4,
     "metadata": {},
     "output_type": "execute_result"
    }
   ],
   "source": [
    "df.head()"
   ]
  },
  {
   "cell_type": "code",
   "execution_count": 5,
   "metadata": {
    "colab": {
     "base_uri": "https://localhost:8080/"
    },
    "id": "ao2QYTf3_cJg",
    "outputId": "46e9a40f-c756-439a-816f-44329f4c1206"
   },
   "outputs": [
    {
     "name": "stdout",
     "output_type": "stream",
     "text": [
      "<class 'pandas.core.frame.DataFrame'>\n",
      "RangeIndex: 969 entries, 0 to 968\n",
      "Data columns (total 17 columns):\n",
      " #   Column      Non-Null Count  Dtype  \n",
      "---  ------      --------------  -----  \n",
      " 0   Nr          969 non-null    int64  \n",
      " 1   Date        969 non-null    object \n",
      " 2   Time        969 non-null    object \n",
      " 3   Ingredient  969 non-null    object \n",
      " 4   IsRawMilk   969 non-null    object \n",
      " 5   Cells       969 non-null    int64  \n",
      " 6   QValue      969 non-null    float64\n",
      " 7   Fat         969 non-null    float64\n",
      " 8   Protein     969 non-null    float64\n",
      " 9   Lactose     969 non-null    float64\n",
      " 10  Solids      969 non-null    float64\n",
      " 11  FFA         969 non-null    int64  \n",
      " 12  Citrate     969 non-null    int64  \n",
      " 13  FrzPoint    969 non-null    float64\n",
      " 14  SNF         969 non-null    float64\n",
      " 15  MUN         969 non-null    float64\n",
      " 16  Casein      969 non-null    float64\n",
      "dtypes: float64(9), int64(4), object(4)\n",
      "memory usage: 128.8+ KB\n"
     ]
    }
   ],
   "source": [
    "df.info()"
   ]
  },
  {
   "cell_type": "code",
   "execution_count": 6,
   "metadata": {
    "colab": {
     "base_uri": "https://localhost:8080/",
     "height": 300
    },
    "id": "1NOgsuCB_ju5",
    "outputId": "989b456b-8db5-45d1-96f4-a1d82993623f"
   },
   "outputs": [
    {
     "data": {
      "text/html": [
       "<div>\n",
       "<style scoped>\n",
       "    .dataframe tbody tr th:only-of-type {\n",
       "        vertical-align: middle;\n",
       "    }\n",
       "\n",
       "    .dataframe tbody tr th {\n",
       "        vertical-align: top;\n",
       "    }\n",
       "\n",
       "    .dataframe thead th {\n",
       "        text-align: right;\n",
       "    }\n",
       "</style>\n",
       "<table border=\"1\" class=\"dataframe\">\n",
       "  <thead>\n",
       "    <tr style=\"text-align: right;\">\n",
       "      <th></th>\n",
       "      <th>Nr</th>\n",
       "      <th>Cells</th>\n",
       "      <th>QValue</th>\n",
       "      <th>Fat</th>\n",
       "      <th>Protein</th>\n",
       "      <th>Lactose</th>\n",
       "      <th>Solids</th>\n",
       "      <th>FFA</th>\n",
       "      <th>Citrate</th>\n",
       "      <th>FrzPoint</th>\n",
       "      <th>SNF</th>\n",
       "      <th>MUN</th>\n",
       "      <th>Casein</th>\n",
       "    </tr>\n",
       "  </thead>\n",
       "  <tbody>\n",
       "    <tr>\n",
       "      <th>count</th>\n",
       "      <td>969.000000</td>\n",
       "      <td>969.000000</td>\n",
       "      <td>969.000000</td>\n",
       "      <td>969.000000</td>\n",
       "      <td>969.000000</td>\n",
       "      <td>969.000000</td>\n",
       "      <td>969.000000</td>\n",
       "      <td>969.000000</td>\n",
       "      <td>969.000000</td>\n",
       "      <td>969.000000</td>\n",
       "      <td>969.000000</td>\n",
       "      <td>969.000000</td>\n",
       "      <td>969.000000</td>\n",
       "    </tr>\n",
       "    <tr>\n",
       "      <th>mean</th>\n",
       "      <td>7.074303</td>\n",
       "      <td>358.284830</td>\n",
       "      <td>90.016584</td>\n",
       "      <td>3.620279</td>\n",
       "      <td>3.300196</td>\n",
       "      <td>4.624076</td>\n",
       "      <td>12.522487</td>\n",
       "      <td>46.131063</td>\n",
       "      <td>1443.882353</td>\n",
       "      <td>0.549450</td>\n",
       "      <td>9.034881</td>\n",
       "      <td>13.818700</td>\n",
       "      <td>2.562890</td>\n",
       "    </tr>\n",
       "    <tr>\n",
       "      <th>std</th>\n",
       "      <td>4.759793</td>\n",
       "      <td>344.324223</td>\n",
       "      <td>4.998924</td>\n",
       "      <td>0.349956</td>\n",
       "      <td>0.136071</td>\n",
       "      <td>0.211785</td>\n",
       "      <td>0.453637</td>\n",
       "      <td>28.804025</td>\n",
       "      <td>174.928606</td>\n",
       "      <td>0.028454</td>\n",
       "      <td>0.338272</td>\n",
       "      <td>5.214027</td>\n",
       "      <td>0.128933</td>\n",
       "    </tr>\n",
       "    <tr>\n",
       "      <th>min</th>\n",
       "      <td>1.000000</td>\n",
       "      <td>0.000000</td>\n",
       "      <td>62.650000</td>\n",
       "      <td>2.240000</td>\n",
       "      <td>2.750000</td>\n",
       "      <td>4.060000</td>\n",
       "      <td>11.120000</td>\n",
       "      <td>2.000000</td>\n",
       "      <td>1075.000000</td>\n",
       "      <td>0.354000</td>\n",
       "      <td>8.210000</td>\n",
       "      <td>0.000000</td>\n",
       "      <td>2.120000</td>\n",
       "    </tr>\n",
       "    <tr>\n",
       "      <th>25%</th>\n",
       "      <td>3.000000</td>\n",
       "      <td>157.000000</td>\n",
       "      <td>87.570000</td>\n",
       "      <td>3.410000</td>\n",
       "      <td>3.220000</td>\n",
       "      <td>4.500000</td>\n",
       "      <td>12.230000</td>\n",
       "      <td>29.000000</td>\n",
       "      <td>1331.000000</td>\n",
       "      <td>0.531000</td>\n",
       "      <td>8.790000</td>\n",
       "      <td>11.200000</td>\n",
       "      <td>2.480000</td>\n",
       "    </tr>\n",
       "    <tr>\n",
       "      <th>50%</th>\n",
       "      <td>6.000000</td>\n",
       "      <td>283.000000</td>\n",
       "      <td>90.750000</td>\n",
       "      <td>3.610000</td>\n",
       "      <td>3.310000</td>\n",
       "      <td>4.620000</td>\n",
       "      <td>12.490000</td>\n",
       "      <td>43.000000</td>\n",
       "      <td>1413.000000</td>\n",
       "      <td>0.554000</td>\n",
       "      <td>9.020000</td>\n",
       "      <td>13.700000</td>\n",
       "      <td>2.580000</td>\n",
       "    </tr>\n",
       "    <tr>\n",
       "      <th>75%</th>\n",
       "      <td>10.000000</td>\n",
       "      <td>476.000000</td>\n",
       "      <td>93.400000</td>\n",
       "      <td>3.820000</td>\n",
       "      <td>3.380000</td>\n",
       "      <td>4.700000</td>\n",
       "      <td>12.800000</td>\n",
       "      <td>56.000000</td>\n",
       "      <td>1531.000000</td>\n",
       "      <td>0.568000</td>\n",
       "      <td>9.250000</td>\n",
       "      <td>16.000000</td>\n",
       "      <td>2.640000</td>\n",
       "    </tr>\n",
       "    <tr>\n",
       "      <th>max</th>\n",
       "      <td>20.000000</td>\n",
       "      <td>5226.000000</td>\n",
       "      <td>100.000000</td>\n",
       "      <td>5.420000</td>\n",
       "      <td>3.840000</td>\n",
       "      <td>5.500000</td>\n",
       "      <td>14.680000</td>\n",
       "      <td>394.000000</td>\n",
       "      <td>2217.000000</td>\n",
       "      <td>0.635000</td>\n",
       "      <td>10.180000</td>\n",
       "      <td>44.400000</td>\n",
       "      <td>3.000000</td>\n",
       "    </tr>\n",
       "  </tbody>\n",
       "</table>\n",
       "</div>"
      ],
      "text/plain": [
       "               Nr        Cells      QValue         Fat     Protein  \\\n",
       "count  969.000000   969.000000  969.000000  969.000000  969.000000   \n",
       "mean     7.074303   358.284830   90.016584    3.620279    3.300196   \n",
       "std      4.759793   344.324223    4.998924    0.349956    0.136071   \n",
       "min      1.000000     0.000000   62.650000    2.240000    2.750000   \n",
       "25%      3.000000   157.000000   87.570000    3.410000    3.220000   \n",
       "50%      6.000000   283.000000   90.750000    3.610000    3.310000   \n",
       "75%     10.000000   476.000000   93.400000    3.820000    3.380000   \n",
       "max     20.000000  5226.000000  100.000000    5.420000    3.840000   \n",
       "\n",
       "          Lactose      Solids         FFA      Citrate    FrzPoint  \\\n",
       "count  969.000000  969.000000  969.000000   969.000000  969.000000   \n",
       "mean     4.624076   12.522487   46.131063  1443.882353    0.549450   \n",
       "std      0.211785    0.453637   28.804025   174.928606    0.028454   \n",
       "min      4.060000   11.120000    2.000000  1075.000000    0.354000   \n",
       "25%      4.500000   12.230000   29.000000  1331.000000    0.531000   \n",
       "50%      4.620000   12.490000   43.000000  1413.000000    0.554000   \n",
       "75%      4.700000   12.800000   56.000000  1531.000000    0.568000   \n",
       "max      5.500000   14.680000  394.000000  2217.000000    0.635000   \n",
       "\n",
       "              SNF         MUN      Casein  \n",
       "count  969.000000  969.000000  969.000000  \n",
       "mean     9.034881   13.818700    2.562890  \n",
       "std      0.338272    5.214027    0.128933  \n",
       "min      8.210000    0.000000    2.120000  \n",
       "25%      8.790000   11.200000    2.480000  \n",
       "50%      9.020000   13.700000    2.580000  \n",
       "75%      9.250000   16.000000    2.640000  \n",
       "max     10.180000   44.400000    3.000000  "
      ]
     },
     "execution_count": 6,
     "metadata": {},
     "output_type": "execute_result"
    }
   ],
   "source": [
    "df.describe()"
   ]
  },
  {
   "cell_type": "code",
   "execution_count": 7,
   "metadata": {
    "colab": {
     "base_uri": "https://localhost:8080/"
    },
    "id": "sDj4kk36_xLL",
    "outputId": "d15b6a7b-1569-4aa4-e71f-58ac975c7634"
   },
   "outputs": [
    {
     "data": {
      "text/plain": [
       "Nr            0\n",
       "Date          0\n",
       "Time          0\n",
       "Ingredient    0\n",
       "IsRawMilk     0\n",
       "Cells         0\n",
       "QValue        0\n",
       "Fat           0\n",
       "Protein       0\n",
       "Lactose       0\n",
       "Solids        0\n",
       "FFA           0\n",
       "Citrate       0\n",
       "FrzPoint      0\n",
       "SNF           0\n",
       "MUN           0\n",
       "Casein        0\n",
       "dtype: int64"
      ]
     },
     "execution_count": 7,
     "metadata": {},
     "output_type": "execute_result"
    }
   ],
   "source": [
    "#checking null values\n",
    "df.isna().sum()"
   ]
  },
  {
   "cell_type": "code",
   "execution_count": 8,
   "metadata": {
    "colab": {
     "base_uri": "https://localhost:8080/"
    },
    "id": "GJsIWjwIAsHv",
    "outputId": "d427e8fb-f9bb-4e8e-f09d-dfb58b96b0a4"
   },
   "outputs": [
    {
     "data": {
      "text/plain": [
       "raw             499\n",
       "formaldehyde    105\n",
       "sucrose          98\n",
       "bicarbonate      97\n",
       "peroxide         89\n",
       "starch           81\n",
       "Name: Ingredient, dtype: int64"
      ]
     },
     "execution_count": 8,
     "metadata": {},
     "output_type": "execute_result"
    }
   ],
   "source": [
    "#checking Ingredient\n",
    "df['Ingredient'].value_counts()"
   ]
  },
  {
   "cell_type": "code",
   "execution_count": 9,
   "metadata": {
    "colab": {
     "base_uri": "https://localhost:8080/"
    },
    "id": "1E3mRaKtBmeL",
    "outputId": "faaee758-2a1b-4afa-815c-f9bb144c51e7"
   },
   "outputs": [
    {
     "data": {
      "text/plain": [
       "yes    499\n",
       "no     470\n",
       "Name: IsRawMilk, dtype: int64"
      ]
     },
     "execution_count": 9,
     "metadata": {},
     "output_type": "execute_result"
    }
   ],
   "source": [
    "#checking IsRawMilk\n",
    "df['IsRawMilk'].value_counts()"
   ]
  },
  {
   "cell_type": "code",
   "execution_count": 10,
   "metadata": {
    "colab": {
     "base_uri": "https://localhost:8080/"
    },
    "id": "SI_W_so3B40H",
    "outputId": "752527b8-6ae3-405a-e8dc-7636c1f5d8d9"
   },
   "outputs": [
    {
     "data": {
      "text/plain": [
       "35     28\n",
       "25     25\n",
       "50     24\n",
       "20     23\n",
       "46     23\n",
       "       ..\n",
       "105     1\n",
       "99      1\n",
       "98      1\n",
       "84      1\n",
       "2       1\n",
       "Name: FFA, Length: 117, dtype: int64"
      ]
     },
     "execution_count": 10,
     "metadata": {},
     "output_type": "execute_result"
    }
   ],
   "source": [
    "df['FFA'].value_counts()"
   ]
  },
  {
   "cell_type": "code",
   "execution_count": 11,
   "metadata": {
    "colab": {
     "base_uri": "https://localhost:8080/"
    },
    "id": "rLPWWA9vCDRZ",
    "outputId": "50f08f3d-1ed6-49ee-f4d1-c5c13bc733e1"
   },
   "outputs": [
    {
     "data": {
      "text/plain": [
       "46     9\n",
       "11     8\n",
       "180    8\n",
       "168    7\n",
       "176    7\n",
       "      ..\n",
       "137    1\n",
       "483    1\n",
       "485    1\n",
       "487    1\n",
       "0      1\n",
       "Name: Cells, Length: 531, dtype: int64"
      ]
     },
     "execution_count": 11,
     "metadata": {},
     "output_type": "execute_result"
    }
   ],
   "source": [
    "df['Cells'].value_counts()"
   ]
  },
  {
   "cell_type": "code",
   "execution_count": 12,
   "metadata": {
    "colab": {
     "base_uri": "https://localhost:8080/"
    },
    "id": "arNj-0FACPP3",
    "outputId": "ebc17fd3-d628-4842-aa70-1d9fd02d35d5"
   },
   "outputs": [
    {
     "data": {
      "text/plain": [
       "1404    10\n",
       "1322     8\n",
       "1423     8\n",
       "1403     7\n",
       "1347     6\n",
       "        ..\n",
       "1591     1\n",
       "1592     1\n",
       "1601     1\n",
       "1603     1\n",
       "2052     1\n",
       "Name: Citrate, Length: 472, dtype: int64"
      ]
     },
     "execution_count": 12,
     "metadata": {},
     "output_type": "execute_result"
    }
   ],
   "source": [
    "df['Citrate'].value_counts()"
   ]
  },
  {
   "cell_type": "code",
   "execution_count": 13,
   "metadata": {
    "colab": {
     "base_uri": "https://localhost:8080/"
    },
    "id": "gojsaPs8CYKC",
    "outputId": "89322606-0b1e-4765-86aa-fa9c153571e3"
   },
   "outputs": [
    {
     "data": {
      "text/plain": [
       "((969, 13), (969, 17))"
      ]
     },
     "execution_count": 13,
     "metadata": {},
     "output_type": "execute_result"
    }
   ],
   "source": [
    "X=df.drop(columns=['Time','Date','Ingredient','IsRawMilk'])\n",
    "X.shape, df.shape"
   ]
  },
  {
   "cell_type": "code",
   "execution_count": 14,
   "metadata": {
    "id": "gwEQa3PTHB4g"
   },
   "outputs": [],
   "source": [
    "Y = df['IsRawMilk']"
   ]
  },
  {
   "cell_type": "code",
   "execution_count": 15,
   "metadata": {
    "colab": {
     "base_uri": "https://localhost:8080/"
    },
    "id": "s1sR-7tTHOEg",
    "outputId": "c60e6f6e-d811-4ab9-ca97-0a3b7da27179"
   },
   "outputs": [
    {
     "data": {
      "text/plain": [
       "(969, 13)"
      ]
     },
     "execution_count": 15,
     "metadata": {},
     "output_type": "execute_result"
    }
   ],
   "source": [
    "#Preprocessing\n",
    "from sklearn.preprocessing import StandardScaler\n",
    "scaler = StandardScaler()\n",
    "X_scaled = scaler.fit_transform(X)\n",
    "X_scaled.shape"
   ]
  },
  {
   "cell_type": "code",
   "execution_count": 16,
   "metadata": {
    "colab": {
     "base_uri": "https://localhost:8080/"
    },
    "id": "ssp6Ir4zIC7O",
    "outputId": "42500b21-4205-47a8-e679-e6d356798ab1"
   },
   "outputs": [
    {
     "data": {
      "text/plain": [
       "array([[ 1.24559124, -0.80281166,  0.57510375, ..., -0.3102107 ,\n",
       "         3.25853086,  0.36557611],\n",
       "       [-1.27682864, -0.84930349,  0.24886517, ..., -0.19190148,\n",
       "         0.26505683,  0.83117512],\n",
       "       [-0.85642533,  1.55955431,  0.36695153, ..., -1.19752991,\n",
       "        -2.34463847, -2.2728183 ],\n",
       "       ...,\n",
       "       [-1.27682864, -0.61393861, -0.80390472, ...,  0.51795389,\n",
       "        -0.96303507, -0.56562192],\n",
       "       [ 0.61498627, -0.17517199, -0.33356075, ...,  0.99119081,\n",
       "        -0.82871252,  0.52077578],\n",
       "       [-0.64622367, -0.63718453,  0.27088127, ..., -0.6947157 ,\n",
       "        -0.1762887 , -0.87602126]])"
      ]
     },
     "execution_count": 16,
     "metadata": {},
     "output_type": "execute_result"
    }
   ],
   "source": [
    "X_scaled"
   ]
  },
  {
   "cell_type": "code",
   "execution_count": 17,
   "metadata": {
    "id": "r6W5tqcoJT3w"
   },
   "outputs": [],
   "source": [
    "X = pd.DataFrame(X_scaled, columns= ['Nr', 'Cells',\t'QValue',\t'Fat',\t'Protein',\t'Lactose',\t'Solids',\t'FFA',\t'Citrate',\t'FrzPoint',\t'SNF',\t'MUN',\t'Casein'])"
   ]
  },
  {
   "cell_type": "code",
   "execution_count": 18,
   "metadata": {
    "colab": {
     "base_uri": "https://localhost:8080/"
    },
    "id": "mCsQI-PwIr8O",
    "outputId": "fe67f6cc-41c9-4f76-edae-842fab7a398c"
   },
   "outputs": [
    {
     "data": {
      "text/plain": [
       "((775, 13), (194, 13), (775,), (194,))"
      ]
     },
     "execution_count": 18,
     "metadata": {},
     "output_type": "execute_result"
    }
   ],
   "source": [
    "#Split the data\n",
    "from sklearn.model_selection import train_test_split\n",
    "X_train, X_test, Y_train, Y_test = train_test_split(X, Y, test_size = 0.2, random_state = 1)\n",
    "X_train.shape, X_test.shape, Y_train.shape, Y_test.shape"
   ]
  },
  {
   "cell_type": "code",
   "execution_count": 20,
   "metadata": {
    "id": "3W6K8FukKWlP"
   },
   "outputs": [],
   "source": [
    "from sklearn.svm import SVC\n",
    "from sklearn.ensemble import RandomForestClassifier \n",
    "from sklearn.naive_bayes import GaussianNB\n",
    "from sklearn.metrics import confusion_matrix,accuracy_score"
   ]
  },
  {
   "cell_type": "code",
   "execution_count": 21,
   "metadata": {
    "colab": {
     "base_uri": "https://localhost:8080/"
    },
    "id": "2UPR4CZkLvcP",
    "outputId": "3a33fa8b-5bf4-4aa8-b270-59f94c65ada6"
   },
   "outputs": [
    {
     "data": {
      "text/plain": [
       "SVC()"
      ]
     },
     "execution_count": 21,
     "metadata": {},
     "output_type": "execute_result"
    }
   ],
   "source": [
    "# SVM\n",
    "svm_model = SVC(kernel= 'rbf')\n",
    "svm_model.fit(X_train, Y_train)"
   ]
  },
  {
   "cell_type": "code",
   "execution_count": 22,
   "metadata": {
    "id": "pN03xfGvM0JN"
   },
   "outputs": [],
   "source": [
    "Y_test_predict_svm = svm_model.predict(X_test)"
   ]
  },
  {
   "cell_type": "code",
   "execution_count": 42,
   "metadata": {
    "colab": {
     "base_uri": "https://localhost:8080/",
     "height": 282
    },
    "id": "S1xQzIo4NFom",
    "outputId": "dfe76d03-7444-4c4e-b818-703b6b5dd4ed"
   },
   "outputs": [],
   "source": [
    "cm=confusion_matrix(Y_test,Y_test_predict_svm)"
   ]
  },
  {
   "cell_type": "code",
   "execution_count": 41,
   "metadata": {},
   "outputs": [
    {
     "data": {
      "text/plain": [
       "<matplotlib.axes._subplots.AxesSubplot at 0x19d3d7ff448>"
      ]
     },
     "execution_count": 41,
     "metadata": {},
     "output_type": "execute_result"
    },
    {
     "data": {
      "image/png": "[encoded data removed]",
      "text/plain": [
       "<Figure size 432x288 with 2 Axes>"
      ]
     },
     "metadata": {
      "needs_background": "light"
     },
     "output_type": "display_data"
    }
   ],
   "source": [
    "sns.heatmap(cm,annot=True)"
   ]
  },
  {
   "cell_type": "code",
   "execution_count": 24,
   "metadata": {
    "colab": {
     "base_uri": "https://localhost:8080/"
    },
    "id": "vYG0ijKUNA7M",
    "outputId": "be5e22d1-be25-4a62-c36e-7b67b6211b7a"
   },
   "outputs": [
    {
     "data": {
      "text/plain": [
       "0.9639175257731959"
      ]
     },
     "execution_count": 24,
     "metadata": {},
     "output_type": "execute_result"
    }
   ],
   "source": [
    "accuracy_score(Y_test, Y_test_predict_svm)"
   ]
  },
  {
   "cell_type": "code",
   "execution_count": 25,
   "metadata": {
    "colab": {
     "base_uri": "https://localhost:8080/"
    },
    "id": "8Tey4Z_GNasW",
    "outputId": "8e2357a0-1375-46de-b36c-4498d0af2263"
   },
   "outputs": [
    {
     "data": {
      "text/plain": [
       "RandomForestClassifier(max_depth=5)"
      ]
     },
     "execution_count": 25,
     "metadata": {},
     "output_type": "execute_result"
    }
   ],
   "source": [
    "#Ramdom Forest\n",
    "rf_model = RandomForestClassifier(n_estimators= 100, max_depth= 5)\n",
    "rf_model.fit(X_train, Y_train)"
   ]
  },
  {
   "cell_type": "code",
   "execution_count": 26,
   "metadata": {
    "colab": {
     "base_uri": "https://localhost:8080/",
     "height": 282
    },
    "id": "e7BbE8gkN2Ae",
    "outputId": "9c149a77-f689-45de-a4de-a5fe7380f1be"
   },
   "outputs": [
    {
     "data": {
      "text/plain": [
       "<matplotlib.axes._subplots.AxesSubplot at 0x19d3d6a9088>"
      ]
     },
     "execution_count": 26,
     "metadata": {},
     "output_type": "execute_result"
    },
    {
     "data": {
      "image/png": "[encoded data removed]",
      "text/plain": [
       "<Figure size 432x288 with 2 Axes>"
      ]
     },
     "metadata": {
      "needs_background": "light"
     },
     "output_type": "display_data"
    }
   ],
   "source": [
    "Y_test_predict_rf = rf_model.predict(X_test)\n",
    "cm=confusion_matrix(Y_test,Y_test_predict_rf)\n",
    "sns.heatmap(cm,annot=True)"
   ]
  },
  {
   "cell_type": "code",
   "execution_count": 27,
   "metadata": {
    "colab": {
     "base_uri": "https://localhost:8080/"
    },
    "id": "b3mJwcWsOHez",
    "outputId": "cbf8d4bf-9523-4b0f-e5f6-3f4790960ebb"
   },
   "outputs": [
    {
     "data": {
      "text/plain": [
       "0.9587628865979382"
      ]
     },
     "execution_count": 27,
     "metadata": {},
     "output_type": "execute_result"
    }
   ],
   "source": [
    "accuracy_score(Y_test,Y_test_predict_rf)"
   ]
  },
  {
   "cell_type": "code",
   "execution_count": 28,
   "metadata": {
    "colab": {
     "base_uri": "https://localhost:8080/"
    },
    "id": "e4E6RtKTONm3",
    "outputId": "004a19de-0a0b-4a26-dda9-a572f1aa277a"
   },
   "outputs": [
    {
     "data": {
      "text/plain": [
       "GaussianNB()"
      ]
     },
     "execution_count": 28,
     "metadata": {},
     "output_type": "execute_result"
    }
   ],
   "source": [
    "# Naive Bayes\n",
    "nb_model = GaussianNB()\n",
    "nb_model.fit(X_train, Y_train)"
   ]
  },
  {
   "cell_type": "code",
   "execution_count": 29,
   "metadata": {
    "colab": {
     "base_uri": "https://localhost:8080/",
     "height": 282
    },
    "id": "FhsI-m_BOoUI",
    "outputId": "83a814a3-11a3-4c73-dd7f-536dbf368a2a"
   },
   "outputs": [
    {
     "data": {
      "text/plain": [
       "<matplotlib.axes._subplots.AxesSubplot at 0x19d3d66fc48>"
      ]
     },
     "execution_count": 29,
     "metadata": {},
     "output_type": "execute_result"
    },
    {
     "data": {
      "image/png": "[encoded data removed]",
      "text/plain": [
       "<Figure size 432x288 with 2 Axes>"
      ]
     },
     "metadata": {
      "needs_background": "light"
     },
     "output_type": "display_data"
    }
   ],
   "source": [
    "Y_test_predict_nb = nb_model.predict(X_test)\n",
    "cm=confusion_matrix(Y_test,Y_test_predict_nb)\n",
    "sns.heatmap(cm,annot=True)"
   ]
  },
  {
   "cell_type": "code",
   "execution_count": 30,
   "metadata": {
    "colab": {
     "base_uri": "https://localhost:8080/"
    },
    "id": "Y2L8c5i2OwNt",
    "outputId": "95ed7f8a-0e10-4431-f1a3-7ed7d859e1d0"
   },
   "outputs": [
    {
     "data": {
      "text/plain": [
       "0.8711340206185567"
      ]
     },
     "execution_count": 30,
     "metadata": {},
     "output_type": "execute_result"
    }
   ],
   "source": [
    "accuracy_score(Y_test,Y_test_predict_nb)"
   ]
  },
  {
   "cell_type": "code",
   "execution_count": 31,
   "metadata": {
    "id": "gOmupZjiO2uZ"
   },
   "outputs": [],
   "source": [
    "# Multiclass Classification\n",
    "Y_Ingredient = df['Ingredient']"
   ]
  },
  {
   "cell_type": "code",
   "execution_count": 32,
   "metadata": {
    "id": "StFf7u_jga-_"
   },
   "outputs": [],
   "source": [
    "from sklearn.preprocessing import LabelEncoder\n",
    "label = LabelEncoder()\n",
    "Y_label = label.fit_transform(Y_Ingredient)"
   ]
  },
  {
   "cell_type": "code",
   "execution_count": 33,
   "metadata": {
    "id": "tq2bTutOSTt_"
   },
   "outputs": [],
   "source": [
    "X_tr, X_te, Y_tr, Y_te = train_test_split(X, Y_label, test_size = 0.2, random_state= 1)\n"
   ]
  },
  {
   "cell_type": "code",
   "execution_count": 37,
   "metadata": {
    "colab": {
     "base_uri": "https://localhost:8080/"
    },
    "id": "5gEXSX9rUYCY",
    "outputId": "4b90899d-6b0e-4f37-fc11-53579348bb80"
   },
   "outputs": [
    {
     "data": {
      "text/plain": [
       "RandomForestClassifier(max_depth=5)"
      ]
     },
     "execution_count": 37,
     "metadata": {},
     "output_type": "execute_result"
    }
   ],
   "source": [
    "svm_multi_model = RandomForestClassifier(n_estimators=100, max_depth=5)\n",
    "svm_multi_model.fit(X_tr, Y_tr)"
   ]
  },
  {
   "cell_type": "code",
   "execution_count": 38,
   "metadata": {
    "id": "uZ0mrS-9Un9v"
   },
   "outputs": [],
   "source": [
    "Y_pred_test_svm = svm_multi_model.predict(X_te)"
   ]
  },
  {
   "cell_type": "code",
   "execution_count": 39,
   "metadata": {},
   "outputs": [
    {
     "data": {
      "text/plain": [
       "array([3, 3, 3, 5, 3, 3, 4, 3, 4, 3, 3, 4, 3, 1, 3, 2, 3, 2, 3, 1, 1, 3,\n",
       "       3, 5, 3, 3, 1, 3, 1, 1, 3, 3, 3, 3, 4, 1, 3, 4, 4, 5, 3, 3, 3, 2,\n",
       "       3, 3, 5, 3, 3, 5, 3, 3, 3, 0, 2, 2, 1, 3, 1, 4, 3, 5, 5, 3, 3, 3,\n",
       "       4, 3, 3, 3, 3, 5, 1, 2, 3, 3, 5, 3, 1, 5, 1, 1, 3, 0, 5, 3, 4, 3,\n",
       "       3, 3, 2, 3, 3, 3, 0, 1, 4, 3, 0, 2, 0, 3, 0, 1, 3, 3, 3, 0, 2, 3,\n",
       "       2, 3, 5, 3, 3, 2, 5, 5, 3, 3, 4, 3, 3, 3, 3, 3, 0, 1, 3, 1, 5, 2,\n",
       "       0, 3, 3, 3, 3, 3, 3, 3, 0, 3, 4, 3, 3, 3, 0, 3, 3, 5, 3, 3, 1, 5,\n",
       "       3, 2, 0, 3, 3, 3, 3, 1, 1, 3, 3, 3, 3, 3, 3, 1, 3, 3, 5, 3, 2, 0,\n",
       "       3, 3, 3, 5, 3, 1, 3, 3, 3, 2, 3, 3, 5, 3, 3, 2, 3, 1])"
      ]
     },
     "execution_count": 39,
     "metadata": {},
     "output_type": "execute_result"
    }
   ],
   "source": [
    "Y_pred_test_svm"
   ]
  },
  {
   "cell_type": "code",
   "execution_count": 40,
   "metadata": {},
   "outputs": [
    {
     "data": {
      "text/plain": [
       "0.8762886597938144"
      ]
     },
     "execution_count": 40,
     "metadata": {},
     "output_type": "execute_result"
    }
   ],
   "source": [
    "accuracy_score(Y_te, Y_pred_test_svm)"
   ]
  },
  {
   "cell_type": "markdown",
   "metadata": {},
   "source": [
    "## Accuracy Comparison\n",
    "### Binary Classification\n",
    "#### SVM - Accuracy - 0.96\n",
    "#### Random Forest - Accuracy - 0.95\n",
    "#### Gaussian Navie Baeys - Accuracy - 0.96\n",
    "\n",
    "## Multi Class classification \n",
    "#### SVM - Accuracy - 0.8762\n",
    "\n",
    "\n"
   ]
  }
 ],
 "metadata": {
  "colab": {
   "collapsed_sections": [],
   "name": "Milk Adulteration.ipynb",
   "provenance": []
  },
  "kernelspec": {
   "display_name": "Python 3",
   "language": "python",
   "name": "python3"
  },
  "language_info": {
   "codemirror_mode": {
    "name": "ipython",
    "version": 3
   },
   "file_extension": ".py",
   "mimetype": "text/x-python",
   "name": "python",
   "nbconvert_exporter": "python",
   "pygments_lexer": "ipython3",
   "version": "3.7.6"
  }
 },
 "nbformat": 4,
 "nbformat_minor": 1
}
